{
 "cells": [
  {
   "cell_type": "code",
   "execution_count": null,
   "metadata": {},
   "outputs": [],
   "source": [
    "# Import necessary libraries\n",
    "import numpy as np\n",
    "from sklearn import datasets\n",
    "from sklearn.model_selection import train_test_split\n",
    "from sklearn.preprocessing import StandardScaler\n",
    "from sklearn.svm import SVC\n",
    "from sklearn.pipeline import Pipeline\n",
    "from sklearn.multiclass import OneVsRestClassifier\n",
    "from sklearn.metrics import accuracy_score"
   ]
  },
  {
   "cell_type": "code",
   "execution_count": null,
   "metadata": {},
   "outputs": [],
   "source": [
    "# Load the MNIST dataset\n",
    "digits = datasets.load_digits()\n",
    "X, y = digits.data, digits.target"
   ]
  },
  {
   "cell_type": "code",
   "execution_count": null,
   "metadata": {},
   "outputs": [],
   "source": [
    "# Split the dataset into training and testing sets\n",
    "X_train, X_test, y_train, y_test = train_test_split(X, y, test_size=0.2, random_state=42)"
   ]
  },
  {
   "cell_type": "code",
   "execution_count": null,
   "metadata": {},
   "outputs": [],
   "source": [
    "linear_svm_pipeline = Pipeline([\n",
    "    ('scaler', StandardScaler()),\n",
    "    ('linear_svm', OneVsRestClassifier(SVC(kernel='linear')))\n",
    "])\n",
    "\n",
    "# Train the linear SVM classifier\n",
    "linear_svm_pipeline.fit(X_train, y_train)\n",
    "\n",
    "# Predictions and accuracy for linear SVM\n",
    "linear_svm_accuracy = linear_svm_pipeline.score(X_test, y_test)\n",
    "print(f\"Linear SVM Accuracy: {linear_svm_accuracy}\")"
   ]
  },
  {
   "cell_type": "code",
   "execution_count": null,
   "metadata": {},
   "outputs": [],
   "source": [
    "rbf_svm_pipeline = Pipeline([\n",
    "    ('scaler', StandardScaler()),\n",
    "    ('rbf_svm', OneVsRestClassifier(SVC(kernel='rbf')))\n",
    "])\n",
    "\n",
    "# Train the RBF SVM classifier\n",
    "rbf_svm_pipeline.fit(X_train, y_train)\n",
    "\n",
    "# Predictions and accuracy for RBF SVM\n",
    "rbf_svm_accuracy = rbf_svm_pipeline.score(X_test, y_test)\n",
    "print(f\"RBF SVM Accuracy: {rbf_svm_accuracy}\")"
   ]
  }
 ],
 "metadata": {
  "language_info": {
   "name": "python"
  }
 },
 "nbformat": 4,
 "nbformat_minor": 2
}
