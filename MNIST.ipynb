{
 "cells": [
  {
   "cell_type": "code",
   "execution_count": null,
   "metadata": {},
   "outputs": [],
   "source": [
    "# Import necessary libraries\n",
    "import numpy as np\n",
    "from sklearn import datasets\n",
    "from sklearn.model_selection import train_test_split\n",
    "from sklearn.preprocessing import StandardScaler\n",
    "from sklearn.svm import SVC\n",
    "from sklearn.pipeline import Pipeline\n",
    "from sklearn.multiclass import OneVsRestClassifier\n",
    "from sklearn.metrics import accuracy_score\n",
    "from sklearn.datasets import fetch_openml\n",
    "import matplotlib.pyplot as plt\n",
    "import seaborn as sns\n",
    "from sklearn.metrics import confusion_matrix\n",
    "from sklearn.model_selection import GridSearchCV"
   ]
  },
  {
   "cell_type": "code",
   "execution_count": null,
   "metadata": {},
   "outputs": [],
   "source": [
    "# Load the MNIST dataset\n",
    "mnist = fetch_openml('mnist_784', version=1, as_frame=False)\n",
    "X, y = mnist[\"data\"], mnist[\"target\"]\n",
    "# Reduce the dataset size for quicker testing\n",
    "X, _, y, _ = train_test_split(X, y, test_size=0.1, random_state=42)\n",
    "x_reduced , y_reduced = X[:10000] , y[:10000]"
   ]
  },
  {
   "cell_type": "code",
   "execution_count": null,
   "metadata": {},
   "outputs": [],
   "source": [
    "# Split the dataset into training and testing sets\n",
    "X_train, X_test, y_train, y_test = train_test_split(X, y, test_size=0.2, random_state=42)"
   ]
  },
  {
   "cell_type": "code",
   "execution_count": 4,
   "metadata": {},
   "outputs": [],
   "source": [
    "linear_svm_pipeline = Pipeline([\n",
    "    ('scaler', StandardScaler()),\n",
    "    ('linear_svm', OneVsRestClassifier(SVC(kernel='linear', decision_function_shape='ovr')))\n",
    "])\n",
    "\n",
    "linear_param_grid = {'linear_svm__C': [0.001, 0.01, 0.1, 1, 10]}\n",
    "linear_grid_search = GridSearchCV(linear_svm_pipeline, linear_param_grid, cv=3, scoring='accuracy', n_jobs=-1)\n",
    "linear_grid_search.fit(X_train, y_train)\n",
    "best_linear_C = linear_grid_search.best_params_['linear_svm__C']\n",
    "print(f\"Best value of C for Linear SVM: {best_linear_C}\")\n",
    "\n",
    "linear_svm_accuracy = linear_grid_search.score(X_test, y_test)\n",
    "print(f\"Linear SVM Accuracy: {linear_svm_accuracy}\")\n",
    "\n",
    "# # Train the linear SVM classifier\n",
    "# linear_svm_pipeline.fit(X_train, y_train)\n",
    "# # Predictions and accuracy for linear SVM\n",
    "# linear_svm_accuracy = linear_svm_pipeline.score(X_test, y_test)\n",
    "# print(f\"Linear SVM Accuracy: {linear_svm_accuracy}\")\n"
   ]
  },
  {
   "cell_type": "code",
   "execution_count": null,
   "metadata": {},
   "outputs": [],
   "source": [
    "rbf_svm_pipeline = Pipeline([\n",
    "    ('scaler', StandardScaler()),\n",
    "    ('rbf_svm', OneVsRestClassifier(SVC(kernel='rbf', decision_function_shape='ovr')))\n",
    "])\n",
    "\n",
    "\n",
    "rbf_param_grid = {'rbf_svm__C': [0.001, 0.01, 0.1, 1, 10], 'rbf_svm__gamma': [0.001, 0.01, 0.1, 1, 10]}\n",
    "rbf_grid_search = GridSearchCV(rbf_svm_pipeline, rbf_param_grid, cv=3, scoring='accuracy', n_jobs=-1)\n",
    "rbf_grid_search.fit(X_train, y_train)\n",
    "best_rbf_C = rbf_grid_search.best_params_['rbf_svm__C']\n",
    "best_rbf_gamma = rbf_grid_search.best_params_['rbf_svm__gamma']\n",
    "print(f\"Best value of C for RBF SVM: {best_rbf_C}\")\n",
    "print(f\"Best value of gamma for RBF SVM: {best_rbf_gamma}\")\n",
    "\n",
    "rbf_svm_accuracy = rbf_grid_search.score(X_test, y_test)\n",
    "print(f\"RBF SVM Accuracy: {rbf_svm_accuracy}\")\n",
    "\n",
    "# # Train the RBF SVM classifier\n",
    "# rbf_svm_pipeline.fit(X_train, y_train)\n",
    "# # Predictions and accuracy for RBF SVM\n",
    "# rbf_svm_accuracy = rbf_svm_pipeline.score(X_test, y_test)\n",
    "# print(f\"RBF SVM Accuracy: {rbf_svm_accuracy}\")"
   ]
  }
 ],
 "metadata": {
  "kernelspec": {
   "display_name": "Python 3",
   "language": "python",
   "name": "python3"
  },
  "language_info": {
   "codemirror_mode": {
    "name": "ipython",
    "version": 3
   },
   "file_extension": ".py",
   "mimetype": "text/x-python",
   "name": "python",
   "nbconvert_exporter": "python",
   "pygments_lexer": "ipython3",
   "version": "3.11.5"
  }
 },
 "nbformat": 4,
 "nbformat_minor": 2
}
